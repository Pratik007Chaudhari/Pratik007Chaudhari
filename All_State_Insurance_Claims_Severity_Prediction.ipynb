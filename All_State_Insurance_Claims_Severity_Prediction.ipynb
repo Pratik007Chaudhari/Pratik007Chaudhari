{
  "cells": [
    {
      "cell_type": "markdown",
      "metadata": {
        "id": "view-in-github",
        "colab_type": "text"
      },
      "source": [
        "<a href=\"https://colab.research.google.com/github/Pratik007Chaudhari/Pratik007Chaudhari/blob/main/All_State_Insurance_Claims_Severity_Prediction.ipynb\" target=\"_parent\"><img src=\"https://colab.research.google.com/assets/colab-badge.svg\" alt=\"Open In Colab\"/></a>"
      ]
    },
    {
      "cell_type": "code",
      "execution_count": null,
      "metadata": {
        "id": "j2_TGz7LtY5B"
      },
      "outputs": [],
      "source": []
    },
    {
      "cell_type": "markdown",
      "metadata": {
        "id": "lQGKn-4RuwXM"
      },
      "source": [
        "**All State insurance claim Prediction**\n",
        "\n",
        "Topics Covered:\n",
        "\n",
        "\n",
        "\n",
        "1.   Business Problem \n",
        "2.   Dataset Overview\n",
        "3.   EDA\n",
        "4.   Data Cleaning and Preprocessing\n",
        "5.   Outlier treatment\n",
        "6.   Feature Selection technique\n",
        "7.   Machine Learning Models\n",
        "8.   Hyper Parameter Tuning\n",
        "9.   Model Validation\n",
        "10.  Deployement Using Flask API"
      ]
    },
    {
      "cell_type": "code",
      "execution_count": null,
      "metadata": {
        "id": "xz42Ly4lwi48"
      },
      "outputs": [],
      "source": [
        "# Import the packages \n",
        "\n",
        "import pandas as pd\n",
        "import numpy as np\n",
        "import re   # Regular Expression\n",
        "import matplotlib.pyplot as plt\n",
        "from sklearn.impute import SimpleImputer\n",
        "import seaborn as sns\n",
        "from sklearn.feature_selection import VarianceThreshold\n",
        "from sklearn.preprocessing import LabelEncoder\n",
        "from sklearn.feature_selection import chi2\n",
        "import math\n",
        "import pickle\n",
        "\n",
        "\n",
        "#modifing display operation to view entire Dataset\n",
        "\n",
        "pd.options.display.max_columns = None"
      ]
    },
    {
      "cell_type": "code",
      "execution_count": null,
      "metadata": {
        "id": "aN9sWzIWx8Bm"
      },
      "outputs": [],
      "source": [
        "train_data = pd.read_csv(\"/content/drive/MyDrive/Project Datasets/Ensemble ML Project--All State insurance Claims Severity/train.csv\")"
      ]
    },
    {
      "cell_type": "markdown",
      "metadata": {
        "id": "mB62s5KIyk13"
      },
      "source": [
        "**Handling the Data**\n",
        "\n",
        "* Analyze the training data\n",
        "* Verify few observations\n",
        "* Check the column headers\n",
        "\n"
      ]
    },
    {
      "cell_type": "code",
      "execution_count": null,
      "metadata": {
        "id": "zwICuV3Tz_Zk"
      },
      "outputs": [],
      "source": [
        "# Knowing about Data\n",
        "\n",
        "\n",
        "def know_about_dataset(dataset):\n",
        "  print('\\n**********************--------------------****************************\\n')\n",
        "  print('Shape : ', dataset.shape)\n",
        "  print('\\n**********************--------------------****************************\\n')\n",
        "  column_names =  np.array(dataset.columns)\n",
        "  print('Column_names : ',column_names)\n",
        "  print('\\n**********************--------------------****************************\\n')\n",
        "  print(dataset.dtypes)\n",
        "  print('\\n**********************--------------------****************************\\n')\n",
        "  print(dataset.head())"
      ]
    },
    {
      "cell_type": "code",
      "execution_count": null,
      "metadata": {
        "colab": {
          "base_uri": "https://localhost:8080/"
        },
        "id": "uqj2DGAz1ZdG",
        "outputId": "4058e810-9db8-481b-e0fb-f705860e329d"
      },
      "outputs": [
        {
          "name": "stdout",
          "output_type": "stream",
          "text": [
            "\n",
            "**********************--------------------****************************\n",
            "\n",
            "Shape :  (188318, 132)\n",
            "\n",
            "**********************--------------------****************************\n",
            "\n",
            "Column_names :  ['id' 'cat1' 'cat2' 'cat3' 'cat4' 'cat5' 'cat6' 'cat7' 'cat8' 'cat9'\n",
            " 'cat10' 'cat11' 'cat12' 'cat13' 'cat14' 'cat15' 'cat16' 'cat17' 'cat18'\n",
            " 'cat19' 'cat20' 'cat21' 'cat22' 'cat23' 'cat24' 'cat25' 'cat26' 'cat27'\n",
            " 'cat28' 'cat29' 'cat30' 'cat31' 'cat32' 'cat33' 'cat34' 'cat35' 'cat36'\n",
            " 'cat37' 'cat38' 'cat39' 'cat40' 'cat41' 'cat42' 'cat43' 'cat44' 'cat45'\n",
            " 'cat46' 'cat47' 'cat48' 'cat49' 'cat50' 'cat51' 'cat52' 'cat53' 'cat54'\n",
            " 'cat55' 'cat56' 'cat57' 'cat58' 'cat59' 'cat60' 'cat61' 'cat62' 'cat63'\n",
            " 'cat64' 'cat65' 'cat66' 'cat67' 'cat68' 'cat69' 'cat70' 'cat71' 'cat72'\n",
            " 'cat73' 'cat74' 'cat75' 'cat76' 'cat77' 'cat78' 'cat79' 'cat80' 'cat81'\n",
            " 'cat82' 'cat83' 'cat84' 'cat85' 'cat86' 'cat87' 'cat88' 'cat89' 'cat90'\n",
            " 'cat91' 'cat92' 'cat93' 'cat94' 'cat95' 'cat96' 'cat97' 'cat98' 'cat99'\n",
            " 'cat100' 'cat101' 'cat102' 'cat103' 'cat104' 'cat105' 'cat106' 'cat107'\n",
            " 'cat108' 'cat109' 'cat110' 'cat111' 'cat112' 'cat113' 'cat114' 'cat115'\n",
            " 'cat116' 'cont1' 'cont2' 'cont3' 'cont4' 'cont5' 'cont6' 'cont7' 'cont8'\n",
            " 'cont9' 'cont10' 'cont11' 'cont12' 'cont13' 'cont14' 'loss']\n",
            "\n",
            "**********************--------------------****************************\n",
            "\n",
            "id          int64\n",
            "cat1       object\n",
            "cat2       object\n",
            "cat3       object\n",
            "cat4       object\n",
            "           ...   \n",
            "cont11    float64\n",
            "cont12    float64\n",
            "cont13    float64\n",
            "cont14    float64\n",
            "loss      float64\n",
            "Length: 132, dtype: object\n",
            "\n",
            "**********************--------------------****************************\n",
            "\n",
            "   id cat1 cat2 cat3 cat4 cat5 cat6 cat7 cat8 cat9 cat10 cat11 cat12 cat13  \\\n",
            "0   1    A    B    A    B    A    A    A    A    B     A     B     A     A   \n",
            "1   2    A    B    A    A    A    A    A    A    B     B     A     A     A   \n",
            "2   5    A    B    A    A    B    A    A    A    B     B     B     B     B   \n",
            "3  10    B    B    A    B    A    A    A    A    B     A     A     A     A   \n",
            "4  11    A    B    A    B    A    A    A    A    B     B     A     B     A   \n",
            "\n",
            "  cat14 cat15 cat16 cat17 cat18 cat19 cat20 cat21 cat22 cat23 cat24 cat25  \\\n",
            "0     A     A     A     A     A     A     A     A     A     B     A     A   \n",
            "1     A     A     A     A     A     A     A     A     A     A     A     A   \n",
            "2     A     A     A     A     A     A     A     A     A     A     A     A   \n",
            "3     A     A     A     A     A     A     A     A     A     B     A     A   \n",
            "4     A     A     A     A     A     A     A     A     A     B     A     A   \n",
            "\n",
            "  cat26 cat27 cat28 cat29 cat30 cat31 cat32 cat33 cat34 cat35 cat36 cat37  \\\n",
            "0     A     A     A     A     A     A     A     A     A     A     A     A   \n",
            "1     A     A     A     A     A     A     A     A     A     A     A     A   \n",
            "2     A     A     A     A     A     A     A     A     A     A     B     A   \n",
            "3     A     A     A     A     A     A     A     A     A     A     A     A   \n",
            "4     A     A     A     A     A     A     A     A     A     A     A     A   \n",
            "\n",
            "  cat38 cat39 cat40 cat41 cat42 cat43 cat44 cat45 cat46 cat47 cat48 cat49  \\\n",
            "0     A     A     A     A     A     A     A     A     A     A     A     A   \n",
            "1     A     A     A     A     A     A     A     A     A     A     A     A   \n",
            "2     A     A     A     A     A     A     A     A     A     A     A     A   \n",
            "3     A     A     A     A     A     A     A     A     A     A     A     A   \n",
            "4     A     A     A     A     A     A     A     A     A     A     A     A   \n",
            "\n",
            "  cat50 cat51 cat52 cat53 cat54 cat55 cat56 cat57 cat58 cat59 cat60 cat61  \\\n",
            "0     A     A     A     A     A     A     A     A     A     A     A     A   \n",
            "1     A     A     A     A     A     A     A     A     A     A     A     A   \n",
            "2     A     A     A     A     A     A     A     A     A     A     A     A   \n",
            "3     A     A     A     A     A     A     A     A     A     A     A     A   \n",
            "4     A     A     A     A     A     A     A     A     A     A     A     A   \n",
            "\n",
            "  cat62 cat63 cat64 cat65 cat66 cat67 cat68 cat69 cat70 cat71 cat72 cat73  \\\n",
            "0     A     A     A     A     A     A     A     A     A     A     A     A   \n",
            "1     A     A     A     A     A     A     A     A     A     A     A     A   \n",
            "2     A     A     A     A     A     A     A     A     A     A     A     A   \n",
            "3     A     A     A     A     A     A     A     A     A     A     A     B   \n",
            "4     A     A     A     A     A     A     A     A     A     A     B     A   \n",
            "\n",
            "  cat74 cat75 cat76 cat77 cat78 cat79 cat80 cat81 cat82 cat83 cat84 cat85  \\\n",
            "0     A     B     A     D     B     B     D     D     B     D     C     B   \n",
            "1     A     A     A     D     B     B     D     D     A     B     C     B   \n",
            "2     A     A     A     D     B     B     B     D     B     D     C     B   \n",
            "3     A     A     A     D     B     B     D     D     D     B     C     B   \n",
            "4     A     A     A     D     B     D     B     D     B     B     C     B   \n",
            "\n",
            "  cat86 cat87 cat88 cat89 cat90 cat91 cat92 cat93 cat94 cat95 cat96 cat97  \\\n",
            "0     D     B     A     A     A     A     A     D     B     C     E     A   \n",
            "1     D     B     A     A     A     A     A     D     D     C     E     E   \n",
            "2     B     B     A     A     A     A     A     D     D     C     E     E   \n",
            "3     D     B     A     A     A     A     A     D     D     C     E     E   \n",
            "4     B     C     A     A     A     B     H     D     B     D     E     E   \n",
            "\n",
            "  cat98 cat99 cat100 cat101 cat102 cat103 cat104 cat105 cat106 cat107 cat108  \\\n",
            "0     C     T      B      G      A      A      I      E      G      J      G   \n",
            "1     D     T      L      F      A      A      E      E      I      K      K   \n",
            "2     A     D      L      O      A      B      E      F      H      F      A   \n",
            "3     D     T      I      D      A      A      E      E      I      K      K   \n",
            "4     A     P      F      J      A      A      D      E      K      G      B   \n",
            "\n",
            "  cat109 cat110 cat111 cat112 cat113 cat114 cat115 cat116     cont1     cont2  \\\n",
            "0     BU     BC      C     AS      S      A      O     LB  0.726300  0.245921   \n",
            "1     BI     CQ      A     AV     BM      A      O     DP  0.330514  0.737068   \n",
            "2     AB     DK      A      C     AF      A      I     GK  0.261841  0.358319   \n",
            "3     BI     CS      C      N     AE      A      O     DJ  0.321594  0.555782   \n",
            "4      H      C      C      Y     BM      A      K     CK  0.273204  0.159990   \n",
            "\n",
            "      cont3     cont4     cont5     cont6     cont7    cont8    cont9  \\\n",
            "0  0.187583  0.789639  0.310061  0.718367  0.335060  0.30260  0.67135   \n",
            "1  0.592681  0.614134  0.885834  0.438917  0.436585  0.60087  0.35127   \n",
            "2  0.484196  0.236924  0.397069  0.289648  0.315545  0.27320  0.26076   \n",
            "3  0.527991  0.373816  0.422268  0.440945  0.391128  0.31796  0.32128   \n",
            "4  0.527991  0.473202  0.704268  0.178193  0.247408  0.24564  0.22089   \n",
            "\n",
            "    cont10    cont11    cont12    cont13    cont14     loss  \n",
            "0  0.83510  0.569745  0.594646  0.822493  0.714843  2213.18  \n",
            "1  0.43919  0.338312  0.366307  0.611431  0.304496  1283.60  \n",
            "2  0.32446  0.381398  0.373424  0.195709  0.774425  3005.09  \n",
            "3  0.44467  0.327915  0.321570  0.605077  0.602642   939.85  \n",
            "4  0.21230  0.204687  0.202213  0.246011  0.432606  2763.85  \n"
          ]
        }
      ],
      "source": [
        "know_about_dataset(train_data)"
      ]
    },
    {
      "cell_type": "markdown",
      "metadata": {
        "id": "HgkgeBpd299J"
      },
      "source": [
        "**identify the categorical and numerical columns to check the data distribuition**"
      ]
    },
    {
      "cell_type": "code",
      "execution_count": null,
      "metadata": {
        "id": "vNkVWfgc3SPf"
      },
      "outputs": [],
      "source": [
        "column_datatypes = train_data.dtypes\n",
        "categorical_col = list(column_datatypes[column_datatypes == 'object'].index.values)\n",
        "continuous_col = list(column_datatypes[column_datatypes == 'float64'].index.values)\n",
        "continuous_col.remove('loss')"
      ]
    },
    {
      "cell_type": "markdown",
      "metadata": {
        "id": "Dxy5hW8c5rQZ"
      },
      "source": [
        "**Checking the distribuition of categorical data**"
      ]
    },
    {
      "cell_type": "code",
      "execution_count": null,
      "metadata": {
        "id": "Td3bul_I5zZR"
      },
      "outputs": [],
      "source": [
        "## Function to check the distribuition of values in categorical columns \n",
        "\n",
        "def category_distribuition(dataset, cat_cols):\n",
        "  cat_col_dist = list()\n",
        "  for cat_col in cat_cols:\n",
        "    cat_col_dist.append(dataset[cat_col].value_counts())\n",
        "  return cat_col_dist"
      ]
    },
    {
      "cell_type": "code",
      "execution_count": null,
      "metadata": {
        "id": "c3slLBx-6nd2"
      },
      "outputs": [],
      "source": [
        "cat_col_dist = category_distribuition(train_data, categorical_col)"
      ]
    },
    {
      "cell_type": "code",
      "execution_count": null,
      "metadata": {
        "id": "sSBMoy9eLRZP"
      },
      "outputs": [],
      "source": [
        "#length of categorical column\n",
        "\n",
        "length_cat_col = list(map(lambda x : len(x), cat_col_dist))"
      ]
    },
    {
      "cell_type": "code",
      "execution_count": null,
      "metadata": {
        "id": "hWzbBXykK5mo"
      },
      "outputs": [],
      "source": [
        "# count the number of column having same number of unique values\n",
        "\n",
        "distribuition_dict = dict()\n",
        "for val in length_cat_col:\n",
        "  if val in distribuition_dict.keys():\n",
        "    count = distribuition_dict[val]\n",
        "    distribuition_dict[val] = count + 1\n",
        "  else:\n",
        "    distribuition_dict[val] = 1"
      ]
    },
    {
      "cell_type": "code",
      "execution_count": null,
      "metadata": {
        "colab": {
          "base_uri": "https://localhost:8080/"
        },
        "id": "6fZA-bfINyg6",
        "outputId": "df1a8a2c-7677-4ea7-bb6d-441fd0cd917f"
      },
      "outputs": [
        {
          "data": {
            "text/plain": [
              "{2: 72,\n",
              " 3: 4,\n",
              " 4: 12,\n",
              " 8: 3,\n",
              " 7: 4,\n",
              " 5: 3,\n",
              " 16: 2,\n",
              " 15: 1,\n",
              " 19: 2,\n",
              " 9: 1,\n",
              " 13: 1,\n",
              " 17: 2,\n",
              " 20: 2,\n",
              " 11: 1,\n",
              " 84: 1,\n",
              " 131: 1,\n",
              " 51: 1,\n",
              " 61: 1,\n",
              " 23: 1,\n",
              " 326: 1}"
            ]
          },
          "execution_count": 10,
          "metadata": {},
          "output_type": "execute_result"
        }
      ],
      "source": [
        "distribuition_dict"
      ]
    },
    {
      "cell_type": "markdown",
      "metadata": {
        "id": "iOtAe7pkOor6"
      },
      "source": [
        "**Plot bar Graph**"
      ]
    },
    {
      "cell_type": "code",
      "execution_count": null,
      "metadata": {
        "colab": {
          "base_uri": "https://localhost:8080/",
          "height": 305
        },
        "id": "clJmz3gfOskc",
        "outputId": "6b3d8581-7f46-4cbe-aa78-401cb56eee01"
      },
      "outputs": [
        {
          "data": {
            "image/png": "[encoded data removed]",
            "text/plain": [
              "<Figure size 432x288 with 1 Axes>"
            ]
          },
          "metadata": {},
          "output_type": "display_data"
        }
      ],
      "source": [
        "#plot showing the count of columns having same number of unique values\n",
        "\n",
        "keys = distribuition_dict.keys()\n",
        "values = distribuition_dict.values()\n",
        "\n",
        "plt.bar(keys, values, width= 0.8)\n",
        "plt.xlabel(\"Distinct values in categorical variable\", fontsize = 15)\n",
        "plt.ylabel(\"Count\", fontsize = 15)\n",
        "plt.title('Categorical lables with same Unique Values', fontsize = 20)\n",
        "plt.rcParams['figure.figsize'] = [48/2.54, 10/2.54]\n",
        "plt.show()"
      ]
    },
    {
      "cell_type": "markdown",
      "metadata": {
        "id": "Pg1xnxdrQm8f"
      },
      "source": [
        "**Check the distribuition for continuous columns**"
      ]
    },
    {
      "cell_type": "code",
      "execution_count": null,
      "metadata": {
        "colab": {
          "base_uri": "https://localhost:8080/",
          "height": 300
        },
        "id": "RWus_ZKfPIqf",
        "outputId": "d909d6b0-e49f-44bc-c603-896975030e7e"
      },
      "outputs": [
        {
          "data": {
            "text/html": [
              "\n",
              "  <div id=\"df-81a40a66-dd28-4abb-ac5a-81b4f36af595\">\n",
              "    <div class=\"colab-df-container\">\n",
              "      <div>\n",
              "<style scoped>\n",
              "    .dataframe tbody tr th:only-of-type {\n",
              "        vertical-align: middle;\n",
              "    }\n",
              "\n",
              "    .dataframe tbody tr th {\n",
              "        vertical-align: top;\n",
              "    }\n",
              "\n",
              "    .dataframe thead th {\n",
              "        text-align: right;\n",
              "    }\n",
              "</style>\n",
              "<table border=\"1\" class=\"dataframe\">\n",
              "  <thead>\n",
              "    <tr style=\"text-align: right;\">\n",
              "      <th></th>\n",
              "      <th>cont1</th>\n",
              "      <th>cont2</th>\n",
              "      <th>cont3</th>\n",
              "      <th>cont4</th>\n",
              "      <th>cont5</th>\n",
              "      <th>cont6</th>\n",
              "      <th>cont7</th>\n",
              "      <th>cont8</th>\n",
              "      <th>cont9</th>\n",
              "      <th>cont10</th>\n",
              "      <th>cont11</th>\n",
              "      <th>cont12</th>\n",
              "      <th>cont13</th>\n",
              "      <th>cont14</th>\n",
              "    </tr>\n",
              "  </thead>\n",
              "  <tbody>\n",
              "    <tr>\n",
              "      <th>count</th>\n",
              "      <td>188318.000000</td>\n",
              "      <td>188318.000000</td>\n",
              "      <td>188318.000000</td>\n",
              "      <td>188318.000000</td>\n",
              "      <td>188318.000000</td>\n",
              "      <td>188318.000000</td>\n",
              "      <td>188318.000000</td>\n",
              "      <td>188318.000000</td>\n",
              "      <td>188318.000000</td>\n",
              "      <td>188318.000000</td>\n",
              "      <td>188318.000000</td>\n",
              "      <td>188318.000000</td>\n",
              "      <td>188318.000000</td>\n",
              "      <td>188318.000000</td>\n",
              "    </tr>\n",
              "    <tr>\n",
              "      <th>mean</th>\n",
              "      <td>0.493861</td>\n",
              "      <td>0.507188</td>\n",
              "      <td>0.498918</td>\n",
              "      <td>0.491812</td>\n",
              "      <td>0.487428</td>\n",
              "      <td>0.490945</td>\n",
              "      <td>0.484970</td>\n",
              "      <td>0.486437</td>\n",
              "      <td>0.485506</td>\n",
              "      <td>0.498066</td>\n",
              "      <td>0.493511</td>\n",
              "      <td>0.493150</td>\n",
              "      <td>0.493138</td>\n",
              "      <td>0.495717</td>\n",
              "    </tr>\n",
              "    <tr>\n",
              "      <th>std</th>\n",
              "      <td>0.187640</td>\n",
              "      <td>0.207202</td>\n",
              "      <td>0.202105</td>\n",
              "      <td>0.211292</td>\n",
              "      <td>0.209027</td>\n",
              "      <td>0.205273</td>\n",
              "      <td>0.178450</td>\n",
              "      <td>0.199370</td>\n",
              "      <td>0.181660</td>\n",
              "      <td>0.185877</td>\n",
              "      <td>0.209737</td>\n",
              "      <td>0.209427</td>\n",
              "      <td>0.212777</td>\n",
              "      <td>0.222488</td>\n",
              "    </tr>\n",
              "    <tr>\n",
              "      <th>min</th>\n",
              "      <td>0.000016</td>\n",
              "      <td>0.001149</td>\n",
              "      <td>0.002634</td>\n",
              "      <td>0.176921</td>\n",
              "      <td>0.281143</td>\n",
              "      <td>0.012683</td>\n",
              "      <td>0.069503</td>\n",
              "      <td>0.236880</td>\n",
              "      <td>0.000080</td>\n",
              "      <td>0.000000</td>\n",
              "      <td>0.035321</td>\n",
              "      <td>0.036232</td>\n",
              "      <td>0.000228</td>\n",
              "      <td>0.179722</td>\n",
              "    </tr>\n",
              "    <tr>\n",
              "      <th>25%</th>\n",
              "      <td>0.346090</td>\n",
              "      <td>0.358319</td>\n",
              "      <td>0.336963</td>\n",
              "      <td>0.327354</td>\n",
              "      <td>0.281143</td>\n",
              "      <td>0.336105</td>\n",
              "      <td>0.350175</td>\n",
              "      <td>0.312800</td>\n",
              "      <td>0.358970</td>\n",
              "      <td>0.364580</td>\n",
              "      <td>0.310961</td>\n",
              "      <td>0.311661</td>\n",
              "      <td>0.315758</td>\n",
              "      <td>0.294610</td>\n",
              "    </tr>\n",
              "    <tr>\n",
              "      <th>50%</th>\n",
              "      <td>0.475784</td>\n",
              "      <td>0.555782</td>\n",
              "      <td>0.527991</td>\n",
              "      <td>0.452887</td>\n",
              "      <td>0.422268</td>\n",
              "      <td>0.440945</td>\n",
              "      <td>0.438285</td>\n",
              "      <td>0.441060</td>\n",
              "      <td>0.441450</td>\n",
              "      <td>0.461190</td>\n",
              "      <td>0.457203</td>\n",
              "      <td>0.462286</td>\n",
              "      <td>0.363547</td>\n",
              "      <td>0.407403</td>\n",
              "    </tr>\n",
              "    <tr>\n",
              "      <th>75%</th>\n",
              "      <td>0.623912</td>\n",
              "      <td>0.681761</td>\n",
              "      <td>0.634224</td>\n",
              "      <td>0.652072</td>\n",
              "      <td>0.643315</td>\n",
              "      <td>0.655021</td>\n",
              "      <td>0.591045</td>\n",
              "      <td>0.623580</td>\n",
              "      <td>0.566820</td>\n",
              "      <td>0.614590</td>\n",
              "      <td>0.678924</td>\n",
              "      <td>0.675759</td>\n",
              "      <td>0.689974</td>\n",
              "      <td>0.724623</td>\n",
              "    </tr>\n",
              "    <tr>\n",
              "      <th>max</th>\n",
              "      <td>0.984975</td>\n",
              "      <td>0.862654</td>\n",
              "      <td>0.944251</td>\n",
              "      <td>0.954297</td>\n",
              "      <td>0.983674</td>\n",
              "      <td>0.997162</td>\n",
              "      <td>1.000000</td>\n",
              "      <td>0.980200</td>\n",
              "      <td>0.995400</td>\n",
              "      <td>0.994980</td>\n",
              "      <td>0.998742</td>\n",
              "      <td>0.998484</td>\n",
              "      <td>0.988494</td>\n",
              "      <td>0.844848</td>\n",
              "    </tr>\n",
              "  </tbody>\n",
              "</table>\n",
              "</div>\n",
              "      <button class=\"colab-df-convert\" onclick=\"convertToInteractive('df-81a40a66-dd28-4abb-ac5a-81b4f36af595')\"\n",
              "              title=\"Convert this dataframe to an interactive table.\"\n",
              "              style=\"display:none;\">\n",
              "        \n",
              "  <svg xmlns=\"http://www.w3.org/2000/svg\" height=\"24px\"viewBox=\"0 0 24 24\"\n",
              "       width=\"24px\">\n",
              "    <path d=\"M0 0h24v24H0V0z\" fill=\"none\"/>\n",
              "    <path d=\"M18.56 5.44l.94 2.06.94-2.06 2.06-.94-2.06-.94-.94-2.06-.94 2.06-2.06.94zm-11 1L8.5 8.5l.94-2.06 2.06-.94-2.06-.94L8.5 2.5l-.94 2.06-2.06.94zm10 10l.94 2.06.94-2.06 2.06-.94-2.06-.94-.94-2.06-.94 2.06-2.06.94z\"/><path d=\"M17.41 7.96l-1.37-1.37c-.4-.4-.92-.59-1.43-.59-.52 0-1.04.2-1.43.59L10.3 9.45l-7.72 7.72c-.78.78-.78 2.05 0 2.83L4 21.41c.39.39.9.59 1.41.59.51 0 1.02-.2 1.41-.59l7.78-7.78 2.81-2.81c.8-.78.8-2.07 0-2.86zM5.41 20L4 18.59l7.72-7.72 1.47 1.35L5.41 20z\"/>\n",
              "  </svg>\n",
              "      </button>\n",
              "      \n",
              "  <style>\n",
              "    .colab-df-container {\n",
              "      display:flex;\n",
              "      flex-wrap:wrap;\n",
              "      gap: 12px;\n",
              "    }\n",
              "\n",
              "    .colab-df-convert {\n",
              "      background-color: #E8F0FE;\n",
              "      border: none;\n",
              "      border-radius: 50%;\n",
              "      cursor: pointer;\n",
              "      display: none;\n",
              "      fill: #1967D2;\n",
              "      height: 32px;\n",
              "      padding: 0 0 0 0;\n",
              "      width: 32px;\n",
              "    }\n",
              "\n",
              "    .colab-df-convert:hover {\n",
              "      background-color: #E2EBFA;\n",
              "      box-shadow: 0px 1px 2px rgba(60, 64, 67, 0.3), 0px 1px 3px 1px rgba(60, 64, 67, 0.15);\n",
              "      fill: #174EA6;\n",
              "    }\n",
              "\n",
              "    [theme=dark] .colab-df-convert {\n",
              "      background-color: #3B4455;\n",
              "      fill: #D2E3FC;\n",
              "    }\n",
              "\n",
              "    [theme=dark] .colab-df-convert:hover {\n",
              "      background-color: #434B5C;\n",
              "      box-shadow: 0px 1px 3px 1px rgba(0, 0, 0, 0.15);\n",
              "      filter: drop-shadow(0px 1px 2px rgba(0, 0, 0, 0.3));\n",
              "      fill: #FFFFFF;\n",
              "    }\n",
              "  </style>\n",
              "\n",
              "      <script>\n",
              "        const buttonEl =\n",
              "          document.querySelector('#df-81a40a66-dd28-4abb-ac5a-81b4f36af595 button.colab-df-convert');\n",
              "        buttonEl.style.display =\n",
              "          google.colab.kernel.accessAllowed ? 'block' : 'none';\n",
              "\n",
              "        async function convertToInteractive(key) {\n",
              "          const element = document.querySelector('#df-81a40a66-dd28-4abb-ac5a-81b4f36af595');\n",
              "          const dataTable =\n",
              "            await google.colab.kernel.invokeFunction('convertToInteractive',\n",
              "                                                     [key], {});\n",
              "          if (!dataTable) return;\n",
              "\n",
              "          const docLinkHtml = 'Like what you see? Visit the ' +\n",
              "            '<a target=\"_blank\" href=https://colab.research.google.com/notebooks/data_table.ipynb>data table notebook</a>'\n",
              "            + ' to learn more about interactive tables.';\n",
              "          element.innerHTML = '';\n",
              "          dataTable['output_type'] = 'display_data';\n",
              "          await google.colab.output.renderOutput(dataTable, element);\n",
              "          const docLink = document.createElement('div');\n",
              "          docLink.innerHTML = docLinkHtml;\n",
              "          element.appendChild(docLink);\n",
              "        }\n",
              "      </script>\n",
              "    </div>\n",
              "  </div>\n",
              "  "
            ],
            "text/plain": [
              "               cont1          cont2          cont3          cont4  \\\n",
              "count  188318.000000  188318.000000  188318.000000  188318.000000   \n",
              "mean        0.493861       0.507188       0.498918       0.491812   \n",
              "std         0.187640       0.207202       0.202105       0.211292   \n",
              "min         0.000016       0.001149       0.002634       0.176921   \n",
              "25%         0.346090       0.358319       0.336963       0.327354   \n",
              "50%         0.475784       0.555782       0.527991       0.452887   \n",
              "75%         0.623912       0.681761       0.634224       0.652072   \n",
              "max         0.984975       0.862654       0.944251       0.954297   \n",
              "\n",
              "               cont5          cont6          cont7          cont8  \\\n",
              "count  188318.000000  188318.000000  188318.000000  188318.000000   \n",
              "mean        0.487428       0.490945       0.484970       0.486437   \n",
              "std         0.209027       0.205273       0.178450       0.199370   \n",
              "min         0.281143       0.012683       0.069503       0.236880   \n",
              "25%         0.281143       0.336105       0.350175       0.312800   \n",
              "50%         0.422268       0.440945       0.438285       0.441060   \n",
              "75%         0.643315       0.655021       0.591045       0.623580   \n",
              "max         0.983674       0.997162       1.000000       0.980200   \n",
              "\n",
              "               cont9         cont10         cont11         cont12  \\\n",
              "count  188318.000000  188318.000000  188318.000000  188318.000000   \n",
              "mean        0.485506       0.498066       0.493511       0.493150   \n",
              "std         0.181660       0.185877       0.209737       0.209427   \n",
              "min         0.000080       0.000000       0.035321       0.036232   \n",
              "25%         0.358970       0.364580       0.310961       0.311661   \n",
              "50%         0.441450       0.461190       0.457203       0.462286   \n",
              "75%         0.566820       0.614590       0.678924       0.675759   \n",
              "max         0.995400       0.994980       0.998742       0.998484   \n",
              "\n",
              "              cont13         cont14  \n",
              "count  188318.000000  188318.000000  \n",
              "mean        0.493138       0.495717  \n",
              "std         0.212777       0.222488  \n",
              "min         0.000228       0.179722  \n",
              "25%         0.315758       0.294610  \n",
              "50%         0.363547       0.407403  \n",
              "75%         0.689974       0.724623  \n",
              "max         0.988494       0.844848  "
            ]
          },
          "execution_count": 12,
          "metadata": {},
          "output_type": "execute_result"
        }
      ],
      "source": [
        "# filter out the continous cols and view the discriptive statistics\n",
        "\n",
        "train_data[continuous_col].describe()"
      ]
    },
    {
      "cell_type": "markdown",
      "metadata": {
        "id": "Ix9-MtSlRkdD"
      },
      "source": [
        "**Data Cleaning and Preprocessing**"
      ]
    },
    {
      "cell_type": "code",
      "execution_count": null,
      "metadata": {
        "colab": {
          "base_uri": "https://localhost:8080/"
        },
        "id": "r9zbstguRqNN",
        "outputId": "f5464170-9ec1-4f1f-bb8f-5c0c8c8cae14"
      },
      "outputs": [
        {
          "data": {
            "text/plain": [
              "0"
            ]
          },
          "execution_count": 13,
          "metadata": {},
          "output_type": "execute_result"
        }
      ],
      "source": [
        "#check if there is any missing values in the columns \n",
        "\n",
        "missing_values = train_data.isnull().sum()\n",
        "np.max(missing_values)"
      ]
    },
    {
      "cell_type": "markdown",
      "metadata": {
        "id": "2zC_ZRjs3fo9"
      },
      "source": [
        "Created a Class if Required processing of Missing values or Outliers\n"
      ]
    },
    {
      "cell_type": "code",
      "execution_count": null,
      "metadata": {
        "id": "EVasTj-63dA9"
      },
      "outputs": [],
      "source": [
        "class Data_preprocessing:\n",
        "  def __init__(self, dataset):\n",
        "    self.dataset = dataset\n",
        "  \n",
        "  def missing_value_continous(self, column_name_with_same_type, imputation_type):\n",
        "    if imputation_type == \"mean\":\n",
        "      mean_imputer = SimpleImputer(missing_values = np.nan, strategy = \"mean\")\n",
        "      mean_imputer.fit(self.dataset[column_name_with_same_type])\n",
        "      self.datset[column_name_with_same_type] = mean_imputer.trasform(self.dataset[column_name_with_same_type])\n",
        "\n",
        "    if imputation_type == \"median\":\n",
        "      median_imputer = SimpleImputer(missing_values = np.nan, strategy = \"median\")\n",
        "      median_imputer.fit(self.dataset[column_name_with_same_type])\n",
        "      self.datset[column_name_with_same_type] = median_imputer.trasform(self.dataset[column_name_with_same_type])\n",
        "\n",
        "    return  self.dataset\n",
        "\n",
        "  def missing_value_categorical(self, column_name_with_same_type, imputation_type):\n",
        "    most_frequent = SimpleImputer(strategy = \"most_frequent\")\n",
        "    most_frequent.fit(self.dataset[column_name_with_same_type])\n",
        "    self.datset[column_name_with_same_type] = most_frequent.trasform(self.dataset[column_name_with_same_type])\n",
        "    return self.dataset\n",
        "\n",
        "  def outliers_treatment(self, Q1, Q2, IQR, columns_with_outliers, action):\n",
        "    if action == \"median\":\n",
        "      for i in range(len(columns_with_outliers)):\n",
        "        column_name = columns_with_outliers[i]\n",
        "        median_outlier = np.median(self.dataset[column_name])\n",
        "        self.dataset.loc[self.dataset[((self.dataset[column_name] < (Q1[column_name] - (1.5 * IQR[column_name]))) | (self.dataset[column_name] > (Q3[column_name] + ( 1.5* IQR[column_name]))))].index, column_name] = median_outlier\n",
        "    \n",
        "    if action == \"mean\" :\n",
        "      for i in range(len(columns_with_outliers)):\n",
        "        column_name = columns_with_outliers[i]\n",
        "        mean_outlier = np.mean(self.dataset[column_name])\n",
        "        self.dataset.loc[self.dataset[((self.dataset[column_name] < (Q1[column_name] - ( 1.5 * IQR[column_name] ))) | (self.dataset[column_name] > (Q3[column_name] + ( 1.5* IQR[column_name] ))) )].index, column_name] = mean_outlier\n",
        "\n",
        "    if action == \"removal\" :\n",
        "      for i in range(len(columns_with_outliers)):\n",
        "        column_name = columns_with_outliers[i]\n",
        "        self.dataset = [self.dataset[~((self.dataset[column_name] < (Q1[column_name] - ( 1.5 * IQR[column_name] ))) | (self.dataset[column_name] > (Q3[column_name] + ( 1.5* IQR[column_name]))))]]\n",
        "    \n",
        "    return self.dataset\n",
        "\n"
      ]
    },
    {
      "cell_type": "markdown",
      "metadata": {
        "id": "yZBxLDqU1uI0"
      },
      "source": [
        "Dealing with outliers ::>>> One of the common technique to identify outliers is BOX PLOT\n"
      ]
    },
    {
      "cell_type": "code",
      "execution_count": null,
      "metadata": {
        "colab": {
          "base_uri": "https://localhost:8080/",
          "height": 262
        },
        "id": "QTppqT7w1-La",
        "outputId": "c13579b1-49f6-498e-ee89-2fd352e896c6"
      },
      "outputs": [
        {
          "data": {
            "image/png": "[encoded data removed]",
            "text/plain": [
              "<Figure size 1360.63x283.465 with 1 Axes>"
            ]
          },
          "metadata": {},
          "output_type": "display_data"
        }
      ],
      "source": [
        "ax = sns.boxplot(data = train_data[continuous_col], orient = 'h', palette = 'Set2')"
      ]
    },
    {
      "cell_type": "code",
      "execution_count": null,
      "metadata": {
        "id": "S6mcSjoW3L5x"
      },
      "outputs": [],
      "source": [
        "columns_with_outliers = ['cont7', 'cont9', 'cont10']"
      ]
    },
    {
      "cell_type": "code",
      "execution_count": null,
      "metadata": {
        "id": "J7FR7PYGIYNT"
      },
      "outputs": [],
      "source": [
        "#compute Inter Quartile Range for all the continous cols\n",
        "Data_preprocessing_obj = Data_preprocessing(train_data)\n",
        "Q1 = train_data[continuous_col].quantile(0.25)\n",
        "Q3 = train_data[continuous_col].quantile(0.75)\n",
        "\n",
        "IQR = (Q3 - Q1)\n",
        "\n",
        "train_data = Data_preprocessing_obj.outliers_treatment(Q1, Q3, IQR, columns_with_outliers, \"median\")"
      ]
    },
    {
      "cell_type": "code",
      "execution_count": null,
      "metadata": {
        "colab": {
          "base_uri": "https://localhost:8080/",
          "height": 262
        },
        "id": "4QXLZq2IKNlB",
        "outputId": "622cb3d5-9c9d-4d7b-fe3b-2f6e0c5832fd"
      },
      "outputs": [
        {
          "data": {
            "image/png": "[encoded data removed]",
            "text/plain": [
              "<Figure size 1360.63x283.465 with 1 Axes>"
            ]
          },
          "metadata": {},
          "output_type": "display_data"
        }
      ],
      "source": [
        "ax = sns.boxplot(data = train_data[continuous_col], orient = 'h', palette = 'Set2')"
      ]
    },
    {
      "cell_type": "markdown",
      "metadata": {
        "id": "3Eva9pfdO_ap"
      },
      "source": [
        "Feature Selection technique for continuous and categorical features\n",
        "\n",
        "Constant variance: Suppose we have house data and have a feature house_area,\n",
        "                   but every house have near about same area. So, that feature\n",
        "                   will not perform a significant role in model development.\n",
        "                   Such features are having Constant Feature. \n",
        "\n",
        "\n",
        "Quasi-Constant varinace : feature will have alomost similar values over the    \n",
        "data.\n",
        "\n",
        "Above are basically a Univariate methods\n",
        "\n",
        "\n"
      ]
    },
    {
      "cell_type": "code",
      "execution_count": null,
      "metadata": {
        "id": "eG_STEeNO_Df"
      },
      "outputs": [],
      "source": [
        "from IPython.utils.text import num_ini_spaces\n",
        "# Function for feature selection of numeric variables\n",
        "#Remove variable with constant Variance\n",
        "#Remove variable with Quasi-Constant variance with a fixed threshold\n",
        "#Remove correlated variables\n",
        "\n",
        "def feature_selection_numerical_variabels(dataset, qthreshold , corr_threshold, exclude_numerical_cols_list):\n",
        "  num_cols = ['int16', 'int32', 'int64', 'float16', 'float32', 'float64']\n",
        "  numerical_cols = list(dataset.select_dtypes( include = num_cols).columns)\n",
        "  numerical_cols = [column for column in numerical_cols if column not in exclude_numerical_cols_list]\n",
        "\n",
        "  #Remove variable with constant variable\n",
        "\n",
        "  constant_filter = VarianceThreshold(threshold = 0)\n",
        "  constant_filter.fit(dataset[numerical_cols])\n",
        "  constant_columns = [column for column in dataset[numerical_cols].columns\n",
        "                      if column not in dataset[numerical_cols].columns[constant_filter.get_support()]]\n",
        "\n",
        "  if len(constant_columns) > 0:\n",
        "    dataset.drop(label = constant_columns, axis = 1, inplace = True)\n",
        "\n",
        "  #Remove deleted columns from dataset\n",
        "  numerical_cols = [column for column in numerical_cols if column not in constant_columns]\n",
        "\n",
        "  #Remove variables with qconstant variance\n",
        "  #Remove quasi-costant variables\n",
        "  qconstant_filter = VarianceThreshold(threshold= qthreshold)\n",
        "  qconstant_filter.fit(dataset[numerical_cols])\n",
        "  qconstant_cols = [column for column in dataset[numerical_cols].columns\n",
        "                    if column not in dataset[numerical_cols].columns[constant_filter.get_support()]]\n",
        "  if len(qconstant_cols) > 0:\n",
        "    dataset.drop(labels = qconstant_cols, axis = 1, inplace = True)\n",
        "\n",
        "  #Remove deleted columns from dataset\n",
        "  numerical_cols = [column for column in numerical_cols if column not in qconstant_cols]\n",
        "\n",
        "  #Remove correlated variables\n",
        "\n",
        "  correlated_features = set()\n",
        "  correlation_matrix = dataset[numerical_cols].corr()\n",
        "  ax = sns.heatmap(correlation_matrix, vmin = -1, vmax = 1, center = 0 ,\n",
        "                   cmap = sns.diverging_palette(20, 220, n = 220), square = True)\n",
        "  ax.set_xticklabels( ax.get_xticklabels(), rotation = 45, horizontalalignment = 'right')\n",
        "  #print(correlation_matrix)\n",
        "\n",
        "  for i in range(len(correlation_matrix.columns)):\n",
        "    for j in range(i):\n",
        "      if abs(correlation_matrix.iloc[i,j]) > corr_threshold:\n",
        "        colname = correlation_matrix.columns[i]\n",
        "        colcompared = correlation_matrix.columns[j]\n",
        "      #check if the column compared against is not in the columns exclude list\n",
        "\n",
        "        if colcompared not in correlated_features:\n",
        "          correlated_features.add(colname)\n",
        "  dataset.drop(labels = correlated_features, axis = 1, inplace = True)\n",
        "\n",
        "  return dataset, constant_columns, qconstant_cols, correlated_features\n",
        "\n"
      ]
    },
    {
      "cell_type": "code",
      "execution_count": null,
      "metadata": {
        "colab": {
          "base_uri": "https://localhost:8080/",
          "height": 287
        },
        "id": "BLWQlWBtRoX2",
        "outputId": "393c152d-6c06-4c62-c885-ae0fd5691ce4"
      },
      "outputs": [
        {
          "data": {
            "image/png": "[encoded data removed]",
            "text/plain": [
              "<Figure size 1360.63x283.465 with 2 Axes>"
            ]
          },
          "metadata": {},
          "output_type": "display_data"
        }
      ],
      "source": [
        "train_data, constant_columns, qconstant_cols, correlated_features = feature_selection_numerical_variabels(train_data, 0.01, 0.75, ['loss','id'],)"
      ]
    },
    {
      "cell_type": "code",
      "execution_count": null,
      "metadata": {
        "colab": {
          "base_uri": "https://localhost:8080/"
        },
        "id": "QGvnNO0XWfC9",
        "outputId": "1c6365d4-cc91-48cb-853d-2f7c6ff682b5"
      },
      "outputs": [
        {
          "data": {
            "text/plain": [
              "{'cont10', 'cont12', 'cont6'}"
            ]
          },
          "execution_count": 21,
          "metadata": {},
          "output_type": "execute_result"
        }
      ],
      "source": [
        "correlated_features"
      ]
    },
    {
      "cell_type": "markdown",
      "metadata": {
        "id": "IMQhaCNqZchF"
      },
      "source": [
        "Handling correlation between Categorical Variables"
      ]
    },
    {
      "cell_type": "code",
      "execution_count": null,
      "metadata": {
        "id": "OiejYzlUZjQK"
      },
      "outputs": [],
      "source": [
        "for cf1 in categorical_col:\n",
        "  le = LabelEncoder()\n",
        "  le.fit(train_data[cf1].unique())\n",
        "  filename = cf1+\".sav\"\n",
        "  pickle.dump(le, open(filename, 'wb'))\n",
        "  train_data[cf1] = le.transform(train_data[cf1])\n"
      ]
    },
    {
      "cell_type": "code",
      "execution_count": null,
      "metadata": {
        "id": "dffmLopkaU17"
      },
      "outputs": [],
      "source": [
        "#snippet to calculate the unique values with a categorical columns\n",
        "df = pd.DataFrame(columns=[\"Column_Name\",\"Count\"])\n",
        "for cat in categorical_col:\n",
        "    unique_value_count = len(train_data[cat].unique())\n",
        "    df = df.append({'Column_Name': cat, \"Count\":int(unique_value_count)}, ignore_index=True)\n",
        "columns_unique_value = np.array(df.Count.value_counts().index)"
      ]
    },
    {
      "cell_type": "code",
      "execution_count": null,
      "metadata": {
        "colab": {
          "base_uri": "https://localhost:8080/",
          "height": 423
        },
        "id": "v2jAyDC8faU6",
        "outputId": "1ea21b23-3846-4059-a775-0fc10a827a2a"
      },
      "outputs": [
        {
          "data": {
            "text/html": [
              "\n",
              "  <div id=\"df-ca3f6958-97d1-458d-98ba-b1c479912c30\">\n",
              "    <div class=\"colab-df-container\">\n",
              "      <div>\n",
              "<style scoped>\n",
              "    .dataframe tbody tr th:only-of-type {\n",
              "        vertical-align: middle;\n",
              "    }\n",
              "\n",
              "    .dataframe tbody tr th {\n",
              "        vertical-align: top;\n",
              "    }\n",
              "\n",
              "    .dataframe thead th {\n",
              "        text-align: right;\n",
              "    }\n",
              "</style>\n",
              "<table border=\"1\" class=\"dataframe\">\n",
              "  <thead>\n",
              "    <tr style=\"text-align: right;\">\n",
              "      <th></th>\n",
              "      <th>Column_Name</th>\n",
              "      <th>Count</th>\n",
              "    </tr>\n",
              "  </thead>\n",
              "  <tbody>\n",
              "    <tr>\n",
              "      <th>0</th>\n",
              "      <td>cat1</td>\n",
              "      <td>2</td>\n",
              "    </tr>\n",
              "    <tr>\n",
              "      <th>1</th>\n",
              "      <td>cat2</td>\n",
              "      <td>2</td>\n",
              "    </tr>\n",
              "    <tr>\n",
              "      <th>2</th>\n",
              "      <td>cat3</td>\n",
              "      <td>2</td>\n",
              "    </tr>\n",
              "    <tr>\n",
              "      <th>3</th>\n",
              "      <td>cat4</td>\n",
              "      <td>2</td>\n",
              "    </tr>\n",
              "    <tr>\n",
              "      <th>4</th>\n",
              "      <td>cat5</td>\n",
              "      <td>2</td>\n",
              "    </tr>\n",
              "    <tr>\n",
              "      <th>...</th>\n",
              "      <td>...</td>\n",
              "      <td>...</td>\n",
              "    </tr>\n",
              "    <tr>\n",
              "      <th>111</th>\n",
              "      <td>cat112</td>\n",
              "      <td>51</td>\n",
              "    </tr>\n",
              "    <tr>\n",
              "      <th>112</th>\n",
              "      <td>cat113</td>\n",
              "      <td>61</td>\n",
              "    </tr>\n",
              "    <tr>\n",
              "      <th>113</th>\n",
              "      <td>cat114</td>\n",
              "      <td>19</td>\n",
              "    </tr>\n",
              "    <tr>\n",
              "      <th>114</th>\n",
              "      <td>cat115</td>\n",
              "      <td>23</td>\n",
              "    </tr>\n",
              "    <tr>\n",
              "      <th>115</th>\n",
              "      <td>cat116</td>\n",
              "      <td>326</td>\n",
              "    </tr>\n",
              "  </tbody>\n",
              "</table>\n",
              "<p>116 rows × 2 columns</p>\n",
              "</div>\n",
              "      <button class=\"colab-df-convert\" onclick=\"convertToInteractive('df-ca3f6958-97d1-458d-98ba-b1c479912c30')\"\n",
              "              title=\"Convert this dataframe to an interactive table.\"\n",
              "              style=\"display:none;\">\n",
              "        \n",
              "  <svg xmlns=\"http://www.w3.org/2000/svg\" height=\"24px\"viewBox=\"0 0 24 24\"\n",
              "       width=\"24px\">\n",
              "    <path d=\"M0 0h24v24H0V0z\" fill=\"none\"/>\n",
              "    <path d=\"M18.56 5.44l.94 2.06.94-2.06 2.06-.94-2.06-.94-.94-2.06-.94 2.06-2.06.94zm-11 1L8.5 8.5l.94-2.06 2.06-.94-2.06-.94L8.5 2.5l-.94 2.06-2.06.94zm10 10l.94 2.06.94-2.06 2.06-.94-2.06-.94-.94-2.06-.94 2.06-2.06.94z\"/><path d=\"M17.41 7.96l-1.37-1.37c-.4-.4-.92-.59-1.43-.59-.52 0-1.04.2-1.43.59L10.3 9.45l-7.72 7.72c-.78.78-.78 2.05 0 2.83L4 21.41c.39.39.9.59 1.41.59.51 0 1.02-.2 1.41-.59l7.78-7.78 2.81-2.81c.8-.78.8-2.07 0-2.86zM5.41 20L4 18.59l7.72-7.72 1.47 1.35L5.41 20z\"/>\n",
              "  </svg>\n",
              "      </button>\n",
              "      \n",
              "  <style>\n",
              "    .colab-df-container {\n",
              "      display:flex;\n",
              "      flex-wrap:wrap;\n",
              "      gap: 12px;\n",
              "    }\n",
              "\n",
              "    .colab-df-convert {\n",
              "      background-color: #E8F0FE;\n",
              "      border: none;\n",
              "      border-radius: 50%;\n",
              "      cursor: pointer;\n",
              "      display: none;\n",
              "      fill: #1967D2;\n",
              "      height: 32px;\n",
              "      padding: 0 0 0 0;\n",
              "      width: 32px;\n",
              "    }\n",
              "\n",
              "    .colab-df-convert:hover {\n",
              "      background-color: #E2EBFA;\n",
              "      box-shadow: 0px 1px 2px rgba(60, 64, 67, 0.3), 0px 1px 3px 1px rgba(60, 64, 67, 0.15);\n",
              "      fill: #174EA6;\n",
              "    }\n",
              "\n",
              "    [theme=dark] .colab-df-convert {\n",
              "      background-color: #3B4455;\n",
              "      fill: #D2E3FC;\n",
              "    }\n",
              "\n",
              "    [theme=dark] .colab-df-convert:hover {\n",
              "      background-color: #434B5C;\n",
              "      box-shadow: 0px 1px 3px 1px rgba(0, 0, 0, 0.15);\n",
              "      filter: drop-shadow(0px 1px 2px rgba(0, 0, 0, 0.3));\n",
              "      fill: #FFFFFF;\n",
              "    }\n",
              "  </style>\n",
              "\n",
              "      <script>\n",
              "        const buttonEl =\n",
              "          document.querySelector('#df-ca3f6958-97d1-458d-98ba-b1c479912c30 button.colab-df-convert');\n",
              "        buttonEl.style.display =\n",
              "          google.colab.kernel.accessAllowed ? 'block' : 'none';\n",
              "\n",
              "        async function convertToInteractive(key) {\n",
              "          const element = document.querySelector('#df-ca3f6958-97d1-458d-98ba-b1c479912c30');\n",
              "          const dataTable =\n",
              "            await google.colab.kernel.invokeFunction('convertToInteractive',\n",
              "                                                     [key], {});\n",
              "          if (!dataTable) return;\n",
              "\n",
              "          const docLinkHtml = 'Like what you see? Visit the ' +\n",
              "            '<a target=\"_blank\" href=https://colab.research.google.com/notebooks/data_table.ipynb>data table notebook</a>'\n",
              "            + ' to learn more about interactive tables.';\n",
              "          element.innerHTML = '';\n",
              "          dataTable['output_type'] = 'display_data';\n",
              "          await google.colab.output.renderOutput(dataTable, element);\n",
              "          const docLink = document.createElement('div');\n",
              "          docLink.innerHTML = docLinkHtml;\n",
              "          element.appendChild(docLink);\n",
              "        }\n",
              "      </script>\n",
              "    </div>\n",
              "  </div>\n",
              "  "
            ],
            "text/plain": [
              "    Column_Name Count\n",
              "0          cat1     2\n",
              "1          cat2     2\n",
              "2          cat3     2\n",
              "3          cat4     2\n",
              "4          cat5     2\n",
              "..          ...   ...\n",
              "111      cat112    51\n",
              "112      cat113    61\n",
              "113      cat114    19\n",
              "114      cat115    23\n",
              "115      cat116   326\n",
              "\n",
              "[116 rows x 2 columns]"
            ]
          },
          "execution_count": 24,
          "metadata": {},
          "output_type": "execute_result"
        }
      ],
      "source": [
        "df"
      ]
    },
    {
      "cell_type": "code",
      "execution_count": null,
      "metadata": {
        "id": "iYZLI2b_ceVu"
      },
      "outputs": [],
      "source": [
        "#snippet to identify the dependent/correlated categorical variables and drop them ( chi-square test)\n",
        "columns_to_drop_cat = set()\n",
        "correlated_columns = dict()\n",
        "\n",
        "for unique_value_count in columns_unique_value:\n",
        "    if unique_value_count > 1:\n",
        "        categorical_columns = df.loc[df.Count == unique_value_count,'Column_Name']\n",
        "        categorical_columns = categorical_columns.reset_index(drop = True)\n",
        "        columns_length = len(categorical_columns)\n",
        "\n",
        "        for col in range(columns_length - 1):\n",
        "            column_to_compare = categorical_columns[col]\n",
        "            columns_compare_against = categorical_columns[(col+1):columns_length]\n",
        "            chi_scores = chi2( train_data[columns_compare_against], train_data[column_to_compare])\n",
        "\n",
        "            if column_to_compare not in columns_to_drop_cat:\n",
        "                columns_to_be_dropped = [i for i in range(len(columns_compare_against)) if chi_scores[1][i]<=0.05]\n",
        "                columns_to_drop_array = np.array(columns_compare_against)[columns_to_be_dropped]\n",
        "                correlated_columns[column_to_compare]=columns_to_drop_array\n",
        "                columns_to_drop_cat.update(columns_to_drop_array)"
      ]
    },
    {
      "cell_type": "code",
      "execution_count": null,
      "metadata": {
        "colab": {
          "base_uri": "https://localhost:8080/"
        },
        "id": "KNmqfD2PpAqn",
        "outputId": "e22d9332-f6d5-49e9-a169-6d8c1f4978b1"
      },
      "outputs": [
        {
          "data": {
            "text/plain": [
              "{'cat10',\n",
              " 'cat106',\n",
              " 'cat107',\n",
              " 'cat11',\n",
              " 'cat111',\n",
              " 'cat114',\n",
              " 'cat12',\n",
              " 'cat13',\n",
              " 'cat14',\n",
              " 'cat16',\n",
              " 'cat17',\n",
              " 'cat18',\n",
              " 'cat19',\n",
              " 'cat2',\n",
              " 'cat20',\n",
              " 'cat21',\n",
              " 'cat23',\n",
              " 'cat24',\n",
              " 'cat25',\n",
              " 'cat26',\n",
              " 'cat27',\n",
              " 'cat28',\n",
              " 'cat29',\n",
              " 'cat3',\n",
              " 'cat30',\n",
              " 'cat31',\n",
              " 'cat33',\n",
              " 'cat34',\n",
              " 'cat35',\n",
              " 'cat36',\n",
              " 'cat37',\n",
              " 'cat38',\n",
              " 'cat39',\n",
              " 'cat4',\n",
              " 'cat40',\n",
              " 'cat41',\n",
              " 'cat42',\n",
              " 'cat43',\n",
              " 'cat44',\n",
              " 'cat45',\n",
              " 'cat46',\n",
              " 'cat47',\n",
              " 'cat48',\n",
              " 'cat49',\n",
              " 'cat5',\n",
              " 'cat50',\n",
              " 'cat51',\n",
              " 'cat52',\n",
              " 'cat53',\n",
              " 'cat54',\n",
              " 'cat55',\n",
              " 'cat56',\n",
              " 'cat57',\n",
              " 'cat58',\n",
              " 'cat59',\n",
              " 'cat6',\n",
              " 'cat60',\n",
              " 'cat61',\n",
              " 'cat62',\n",
              " 'cat63',\n",
              " 'cat64',\n",
              " 'cat65',\n",
              " 'cat66',\n",
              " 'cat67',\n",
              " 'cat68',\n",
              " 'cat69',\n",
              " 'cat7',\n",
              " 'cat70',\n",
              " 'cat71',\n",
              " 'cat72',\n",
              " 'cat74',\n",
              " 'cat76',\n",
              " 'cat78',\n",
              " 'cat79',\n",
              " 'cat8',\n",
              " 'cat80',\n",
              " 'cat81',\n",
              " 'cat82',\n",
              " 'cat83',\n",
              " 'cat84',\n",
              " 'cat85',\n",
              " 'cat86',\n",
              " 'cat87',\n",
              " 'cat9',\n",
              " 'cat91',\n",
              " 'cat92',\n",
              " 'cat97',\n",
              " 'cat98'}"
            ]
          },
          "execution_count": 26,
          "metadata": {},
          "output_type": "execute_result"
        }
      ],
      "source": [
        "columns_to_drop_cat"
      ]
    },
    {
      "cell_type": "code",
      "execution_count": null,
      "metadata": {
        "id": "mQTL0qkVjEVW"
      },
      "outputs": [],
      "source": [
        "train_data = train_data.drop(columns_to_drop_cat, axis = 1)"
      ]
    },
    {
      "cell_type": "code",
      "execution_count": null,
      "metadata": {
        "id": "GWn_BrTgjoRW"
      },
      "outputs": [],
      "source": [
        "correlated_features = list(correlated_features)\n",
        "columns_to_drop_cat = list(columns_to_drop_cat)\n",
        "columns_to_drop_cat.extend(correlated_features)\n",
        "column_to_drop = columns_to_drop_cat.copy()\n",
        "\n",
        "#output of the column_to_drop file to a csv\n",
        "\n",
        "columns_to_drop_df = pd.DataFrame(column_to_drop, columns = ['colnames'])\n",
        "columns_to_drop_df.to_csv('Columns_to_drop.csv' , index = False)"
      ]
    },
    {
      "cell_type": "markdown",
      "metadata": {
        "id": "LkfA8VzoMBNA"
      },
      "source": [
        "Visualization of Output Variable"
      ]
    },
    {
      "cell_type": "code",
      "execution_count": null,
      "metadata": {
        "colab": {
          "base_uri": "https://localhost:8080/",
          "height": 351
        },
        "id": "_tCfOaN1MGO3",
        "outputId": "526a07b0-3987-48f4-b8a4-8dace2f91f4f"
      },
      "outputs": [
        {
          "name": "stderr",
          "output_type": "stream",
          "text": [
            "/usr/local/lib/python3.7/dist-packages/seaborn/distributions.py:2619: FutureWarning: `distplot` is a deprecated function and will be removed in a future version. Please adapt your code to use either `displot` (a figure-level function with similar flexibility) or `histplot` (an axes-level function for histograms).\n",
            "  warnings.warn(msg, FutureWarning)\n"
          ]
        },
        {
          "data": {
            "text/plain": [
              "<matplotlib.axes._subplots.AxesSubplot at 0x7f020abf1a10>"
            ]
          },
          "execution_count": 29,
          "metadata": {},
          "output_type": "execute_result"
        },
        {
          "data": {
            "image/png": "[encoded data removed]",
            "text/plain": [
              "<Figure size 1360.63x283.465 with 1 Axes>"
            ]
          },
          "metadata": {},
          "output_type": "display_data"
        }
      ],
      "source": [
        "#Visaliazing the distribuition of loss value\n",
        "#Density plot of Histpogram of loss\n",
        "\n",
        "sns.distplot(train_data['loss'], hist = True, kde = True, \n",
        "             bins = int(180/5), color = 'darkblue', \n",
        "             hist_kws = {'edgecolor' : 'black'},\n",
        "             kde_kws = {'Linewidth' : 4})"
      ]
    },
    {
      "cell_type": "code",
      "execution_count": null,
      "metadata": {
        "id": "q7fzjBo5Nq9O"
      },
      "outputs": [],
      "source": [
        "# we will use log transformation on dependant varible to reduce the scale\n",
        "\n",
        "train_data['loss'] = np.log(train_data['loss'])"
      ]
    },
    {
      "cell_type": "code",
      "execution_count": null,
      "metadata": {
        "colab": {
          "base_uri": "https://localhost:8080/",
          "height": 351
        },
        "id": "pLmOIfYdOF7R",
        "outputId": "61d22cd2-beb3-4dbd-8b0a-54dbc276f3f4"
      },
      "outputs": [
        {
          "name": "stderr",
          "output_type": "stream",
          "text": [
            "/usr/local/lib/python3.7/dist-packages/seaborn/distributions.py:2619: FutureWarning: `distplot` is a deprecated function and will be removed in a future version. Please adapt your code to use either `displot` (a figure-level function with similar flexibility) or `histplot` (an axes-level function for histograms).\n",
            "  warnings.warn(msg, FutureWarning)\n"
          ]
        },
        {
          "data": {
            "text/plain": [
              "<matplotlib.axes._subplots.AxesSubplot at 0x7f0207999850>"
            ]
          },
          "execution_count": 31,
          "metadata": {},
          "output_type": "execute_result"
        },
        {
          "data": {
            "image/png": "[encoded data removed]",
            "text/plain": [
              "<Figure size 1360.63x283.465 with 1 Axes>"
            ]
          },
          "metadata": {},
          "output_type": "display_data"
        }
      ],
      "source": [
        "#Visaliazing the distribuition of loss value\n",
        "#Density plot of Histpogram of loss\n",
        "\n",
        "sns.distplot(train_data['loss'], hist = True, kde = True, \n",
        "             bins = int(180/5), color = 'darkblue', \n",
        "             hist_kws = {'edgecolor' : 'black'},\n",
        "             kde_kws = {'Linewidth' : 4})"
      ]
    },
    {
      "cell_type": "markdown",
      "metadata": {
        "id": "qmJEb6usmr-z"
      },
      "source": [
        "Fit a ML Model"
      ]
    },
    {
      "cell_type": "code",
      "execution_count": null,
      "metadata": {
        "id": "xVtL6cBSmq5P"
      },
      "outputs": [],
      "source": [
        "from sklearn.ensemble import RandomForestRegressor\n",
        "from sklearn.datasets import make_regression\n",
        "from sklearn.model_selection import train_test_split\n",
        "from sklearn.metrics import mean_squared_error\n",
        "from sklearn.model_selection import RandomizedSearchCV"
      ]
    },
    {
      "cell_type": "code",
      "execution_count": null,
      "metadata": {
        "id": "r88nNMa5ozpG"
      },
      "outputs": [],
      "source": [
        "#convert the int64 columns categorical\n",
        "\n",
        "column_datatypes = train_data.dtypes\n",
        "Integer_columns = list(column_datatypes.where(lambda x: x == 'int64').dropna().index.values)\n",
        "train_data[Integer_columns] = train_data[Integer_columns].astype('category' , copy = False)\n",
        "x, y = train_data.drop(['id', 'loss'], axis = 1), train_data['loss']\n",
        "x_train, x_test, y_train, y_test = train_test_split(x, y, test_size = 0.33, random_state = 42)"
      ]
    },
    {
      "cell_type": "code",
      "execution_count": null,
      "metadata": {
        "colab": {
          "base_uri": "https://localhost:8080/"
        },
        "id": "a69Nvj_ZR0Xd",
        "outputId": "ac0ab315-06e4-4416-bca9-3478f88c358b"
      },
      "outputs": [
        {
          "data": {
            "text/plain": [
              "RandomForestRegressor(oob_score=True, random_state=42)"
            ]
          },
          "execution_count": 35,
          "metadata": {},
          "output_type": "execute_result"
        }
      ],
      "source": [
        "#Instantiate model with 100 decision trees\n",
        "\n",
        "rf_base = RandomForestRegressor( n_estimators= 100, random_state = 42, oob_score= True)\n",
        "rf_base.fit(x_train , y_train)"
      ]
    },
    {
      "cell_type": "code",
      "execution_count": null,
      "metadata": {
        "id": "pnHed8AgT7i3"
      },
      "outputs": [],
      "source": [
        "# save the model output\n",
        "\n",
        "pickle.dump(rf_base, open('basemodel_rf', 'wb'))"
      ]
    },
    {
      "cell_type": "code",
      "execution_count": null,
      "metadata": {
        "id": "H1AyIdv9UI3C"
      },
      "outputs": [],
      "source": [
        "# load the saved model and predict on test data\n",
        "\n",
        "basemodel_rf = pickle.load(open('basemodel_rf', 'rb'))"
      ]
    },
    {
      "cell_type": "code",
      "execution_count": null,
      "metadata": {
        "colab": {
          "base_uri": "https://localhost:8080/"
        },
        "id": "eK2cOk6HUV19",
        "outputId": "20504769-12af-41de-abb3-350dde368158"
      },
      "outputs": [
        {
          "name": "stdout",
          "output_type": "stream",
          "text": [
            "Base Model Accuracy :  0.6664665637796248\n"
          ]
        }
      ],
      "source": [
        "# validate the accuracy of the base model\n",
        "# compare the model accuracies\n",
        "\n",
        "y_test_predict_base = basemodel_rf.predict(x_test)\n",
        "print('Base Model Accuracy : ', np.sqrt(mean_squared_error(y_test, y_test_predict_base)))"
      ]
    },
    {
      "cell_type": "markdown",
      "metadata": {
        "id": "l49tm3WXVLVz"
      },
      "source": [
        "Hyper Parameter Tuning Using RandomSearcCv\n"
      ]
    },
    {
      "cell_type": "code",
      "execution_count": null,
      "metadata": {
        "id": "9Ixxo5LUVYGc"
      },
      "outputs": [],
      "source": [
        "#number of trees\n",
        "n_estimators = [100, 200, 300, 400, 500]\n",
        "\n",
        "#number of features to be considered at every split\n",
        "max_features = ['auto', 'sqrt']\n",
        "\n",
        "#maximum number of levels in tree\n",
        "max_depth = [int(x) for x in np.linspace(10, 110, num=11)]\n",
        "\n",
        "#minimum number of samples required to split a node\n",
        "min_samples_split = [200, 400, 600]\n",
        "\n",
        "#minimum number of samples required at each lead node\n",
        "min_samples_leaf = [1, 2, 3]\n",
        "\n",
        "#method of selecting samples for trainig each tree\n",
        "bootstrap = [True, False]\n",
        "\n",
        "#create a random grid\n",
        "\n",
        "random_grid = {  'n_estimators' : n_estimators,\n",
        "                 'max_features' : max_features,\n",
        "                 'max_depth' : max_depth,\n",
        "                 'min_samples_split' : min_samples_split,\n",
        "                 'min_samples_leaf' : min_samples_leaf,\n",
        "                 'bootstrap' : bootstrap }\n"
      ]
    },
    {
      "cell_type": "code",
      "execution_count": null,
      "metadata": {
        "colab": {
          "background_save": true,
          "base_uri": "https://localhost:8080/"
        },
        "id": "0sThZIKIXfVD",
        "outputId": "5a9b6190-34d8-4082-b84d-a3eba99f6c09"
      },
      "outputs": [
        {
          "name": "stdout",
          "output_type": "stream",
          "text": [
            "Fitting 3 folds for each of 5 candidates, totalling 15 fits\n"
          ]
        }
      ],
      "source": [
        "# Use the random grid to search for best hyperparameters\n",
        "# base model to tune\n",
        "rf = RandomForestRegressor()\n",
        "\n",
        "# 5 fold cross validation, \n",
        "# search across 150 different combinations, and use all available cores\n",
        "rf_tuned = RandomizedSearchCV( estimator = rf, param_distributions = random_grid, cv = 3, n_iter = 5, verbose=2, random_state=42, n_jobs = -1)\n",
        "\n",
        "# Fit the random search model\n",
        "rf_tuned.fit(x_train, y_train)\n",
        "\n",
        "#save the model output\n",
        "pickle.dump(rf_tuned, open(\"tunedmodel_rf\", 'wb'))"
      ]
    },
    {
      "cell_type": "code",
      "execution_count": null,
      "metadata": {
        "id": "L3vSDEj-ZOF6"
      },
      "outputs": [],
      "source": [
        "# check the best params\n",
        "\n",
        "rf_tuned.best_param_"
      ]
    },
    {
      "cell_type": "code",
      "execution_count": null,
      "metadata": {
        "id": "RUrNl6cxZW8H"
      },
      "outputs": [],
      "source": [
        "# load the model and predict on test data\n",
        "\n",
        "tunedmodel_rf = pickle.load( open('tunedmodel_rf' , 'rb'))\n",
        "\n",
        "y_test_predict_tuned = tunedmodel_rf.predict(x_test)\n",
        "print(' Tuned Model accuracy : ', np.sqrt(mean_squared_error(y_test, y_test_predict_tuned )))"
      ]
    },
    {
      "cell_type": "markdown",
      "metadata": {
        "id": "ieGC6aR4aYC3"
      },
      "source": [
        "Tuning a Gradient Boosting Model"
      ]
    },
    {
      "cell_type": "code",
      "execution_count": null,
      "metadata": {
        "id": "rCgg0mdiaXzj"
      },
      "outputs": [],
      "source": [
        "from sklearn.ensemble import GradientBoostingRegressor \n",
        "\n",
        "gbm_base = GradientBoostingRegressor(\n",
        "     max_depth = 2,\n",
        "     n_estimators = 3,\n",
        "     learning_rate = 1.0)\n",
        "\n",
        "gbm_base.fit(x_train, y_train)\n",
        "\n",
        "#save the GBM model\n",
        "pickle.dump(gbm_base, open('basemodel_GBM', 'wb'))"
      ]
    },
    {
      "cell_type": "code",
      "execution_count": null,
      "metadata": {
        "id": "oQjwUyQxaRYT"
      },
      "outputs": [],
      "source": [
        "# load the saved model and predict on the test data\n",
        "\n",
        "basemodel_GBM = pickle.load(open('basemodel_GBM', 'rb'))\n",
        "\n",
        "y_test_predict_GBM = basemodel_GBM.predict(x_test)\n",
        "\n",
        "print(' Base Model GBM accuracy : ', np.sqrt(mean_squared_error(y_test, y_test_predict_GBM )))"
      ]
    }
  ],
  "metadata": {
    "colab": {
      "provenance": [],
      "mount_file_id": "18JUMwzQ1rpnJWwqyjrG9Y-UejKIhqIYA",
      "authorship_tag": "ABX9TyMXmoO9hC2eOGpO3KrMCPaA",
      "include_colab_link": true
    },
    "kernelspec": {
      "display_name": "Python 3",
      "name": "python3"
    },
    "language_info": {
      "name": "python"
    }
  },
  "nbformat": 4,
  "nbformat_minor": 0
}